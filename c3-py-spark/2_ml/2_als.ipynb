{
 "cells": [
  {
   "cell_type": "code",
   "execution_count": 1,
   "metadata": {
    "collapsed": true
   },
   "outputs": [
    {
     "data": {
      "text/plain": "<pyspark.sql.session.SparkSession at 0x1c5030547f0>",
      "text/html": "\n            <div>\n                <p><b>SparkSession - in-memory</b></p>\n                \n        <div>\n            <p><b>SparkContext</b></p>\n\n            <p><a href=\"http://X99:4040\">Spark UI</a></p>\n\n            <dl>\n              <dt>Version</dt>\n                <dd><code>v2.4.5</code></dd>\n              <dt>Master</dt>\n                <dd><code>local[12]</code></dd>\n              <dt>AppName</dt>\n                <dd><code>test</code></dd>\n            </dl>\n        </div>\n        \n            </div>\n        "
     },
     "execution_count": 1,
     "metadata": {},
     "output_type": "execute_result"
    }
   ],
   "source": [
    "# 尝试als\n",
    "# 初始化环境\n",
    "import os\n",
    "from os.path import *\n",
    "import pyspark\n",
    "from pyspark import SparkContext, SparkConf\n",
    "from pyspark.sql import SparkSession\n",
    "\n",
    "file_dir = os.path.abspath(\".\")\n",
    "proj_dir = dirname(dirname(file_dir))\n",
    "os.environ['HADOOP_HOME'] = r\"C:\\hadoop\\hadoop-2.6.5\"\n",
    "os.environ['SPARK_HOME'] = r\"C:\\hadoop\\spark-2.4.5-bin-hadoop2.6\"\n",
    "os.environ['JAVA_HOME'] = r\"C:\\Program Files\\Java\\jdk1.8.0_191\"\n",
    "os.environ[\"SCALA_HOME\"] = r\"C:\\Program Files (x86)\\scala\"\n",
    "os.environ[\"PYSPARK_SUBMIT_ARGS\"] = \" --driver-memory 32g \" \\\n",
    "                                    \" --conf spark.driver.extraJavaOptions=-Xss1g \" \\\n",
    "                                    \" --conf spark.executor.extraJavaOptions=-Xss1g \" \\\n",
    "                                    \" pyspark-shell \"\n",
    "sconf = SparkConf().setMaster(\"local[12]\").setAppName(\"test\")\n",
    "sc = SparkContext(conf=sconf)\n",
    "ss = SparkSession(sparkContext=sc)\n",
    "ss"
   ]
  },
  {
   "cell_type": "code",
   "source": [
    "# 加载数据集，sample_movielens_data第一列是用户id，第二列是电影id，第三列是评分\n",
    "ml_test_data_dir = os.environ['SPARK_HOME'] + \"\\\\data\\\\\\mllib\\\\\"\n",
    "test_df = ss.read.csv(ml_test_data_dir + \"sample_movielens_data.txt\", sep=\":\",\n",
    "                      schema=\"user INT, a STRING, movie INT, b STRING, rating INT\")\n",
    "test_df = test_df.select(\"user\", \"movie\", \"rating\")\n",
    "test_df.show()"
   ],
   "metadata": {
    "collapsed": false,
    "pycharm": {
     "name": "#%%\n"
    }
   },
   "execution_count": 2,
   "outputs": [
    {
     "name": "stdout",
     "output_type": "stream",
     "text": [
      "+----+-----+------+\n",
      "|user|movie|rating|\n",
      "+----+-----+------+\n",
      "|   0|    2|     3|\n",
      "|   0|    3|     1|\n",
      "|   0|    5|     2|\n",
      "|   0|    9|     4|\n",
      "|   0|   11|     1|\n",
      "|   0|   12|     2|\n",
      "|   0|   15|     1|\n",
      "|   0|   17|     1|\n",
      "|   0|   19|     1|\n",
      "|   0|   21|     1|\n",
      "|   0|   23|     1|\n",
      "|   0|   26|     3|\n",
      "|   0|   27|     1|\n",
      "|   0|   28|     1|\n",
      "|   0|   29|     1|\n",
      "|   0|   30|     1|\n",
      "|   0|   31|     1|\n",
      "|   0|   34|     1|\n",
      "|   0|   37|     1|\n",
      "|   0|   41|     2|\n",
      "+----+-----+------+\n",
      "only showing top 20 rows\n",
      "\n"
     ]
    }
   ]
  },
  {
   "cell_type": "code",
   "execution_count": 3,
   "outputs": [
    {
     "data": {
      "text/plain": "(1216, 285)"
     },
     "execution_count": 3,
     "metadata": {},
     "output_type": "execute_result"
    }
   ],
   "source": [
    "data_train, data_test = test_df.randomSplit([0.8, 0.2])\n",
    "data_train.count(), data_test.count()"
   ],
   "metadata": {
    "collapsed": false,
    "pycharm": {
     "name": "#%%\n"
    }
   }
  },
  {
   "cell_type": "code",
   "execution_count": 4,
   "outputs": [
    {
     "data": {
      "text/plain": "(0.025302381638289927, 0.3024724029180222)"
     },
     "execution_count": 4,
     "metadata": {},
     "output_type": "execute_result"
    }
   ],
   "source": [
    "from pyspark.ml.recommendation import ALS\n",
    "from pyspark.ml.evaluation import RegressionEvaluator\n",
    "\n",
    "def als_eva(maxIter=10,):\n",
    "    als = ALS(maxIter=maxIter,\n",
    "              regParam=0.01,\n",
    "              userCol=\"user\",\n",
    "              itemCol=\"movie\",\n",
    "              ratingCol=\"rating\",\n",
    "              coldStartStrategy=\"drop\")\n",
    "    model = als.fit(data_train)  # 注意这里fit后必须接收才是有用的\n",
    "    evaluator = RegressionEvaluator(metricName=\"rmse\",  # 回归用的均方根误差\n",
    "                                    labelCol=\"rating\",\n",
    "                                    predictionCol=\"prediction\")\n",
    "    train_loss = evaluator.evaluate(model.transform(data_train))/5 # 因为rating是1-5，所以差值除以5是实际的损失\n",
    "    test_loss = evaluator.evaluate(model.transform(data_test))/5\n",
    "    return train_loss, test_loss\n",
    "als_eva(26)"
   ],
   "metadata": {
    "collapsed": false,
    "pycharm": {
     "name": "#%%\n"
    }
   }
  },
  {
   "cell_type": "raw",
   "source": [
    "直接使用算法的结果是测试集准确率远小于训练集准确率，训练过拟合了。\n",
    "尝试解决过拟合"
   ],
   "metadata": {
    "collapsed": false,
    "pycharm": {
     "name": "#%% raw\n"
    }
   }
  },
  {
   "cell_type": "code",
   "execution_count": 5,
   "outputs": [
    {
     "name": "stdout",
     "output_type": "stream",
     "text": [
      "iter= 1 0.14345129470584497 0.470261704267701\n",
      "iter= 4 0.0593534591499867 0.3790186178916417\n",
      "iter= 7 0.04222492814897376 0.3654408673604032\n",
      "iter= 10 0.03568697494278481 0.3469733967242659\n",
      "iter= 13 0.03281750626842157 0.3330362192159368\n",
      "iter= 16 0.031023425011171453 0.32227506079509083\n",
      "iter= 19 0.029123758903125813 0.3134017875585196\n",
      "iter= 22 0.02717732569500502 0.30752563783870734\n",
      "iter= 25 0.025693785364706068 0.30350621982710246\n",
      "iter= 28 0.02463740569489133 0.3007426942627747\n",
      "iter= 31 0.02386650372224938 0.29878705672912076\n",
      "iter= 34 0.023295388895745027 0.29732660661310056\n",
      "iter= 37 0.02286329784104539 0.29611253461691267\n",
      "iter= 40 0.022527990954071656 0.2949845190856292\n",
      "iter= 43 0.022269101156541713 0.2938838098803961\n",
      "iter= 46 0.022077334140957822 0.2928105712106015\n",
      "iter= 49 0.021942084454327545 0.2917751541466339\n"
     ]
    }
   ],
   "source": [
    "# 考虑不同的迭代次数后的数据：\n",
    "eva_values = []\n",
    "for i in range(1, 50, 3):\n",
    "    train_loss, test_loss = als_eva(i)\n",
    "    eva_values.append((str(i), train_loss, test_loss))\n",
    "    print(\"iter=\",str(i), train_loss, test_loss )"
   ],
   "metadata": {
    "collapsed": false,
    "pycharm": {
     "name": "#%%\n"
    }
   }
  },
  {
   "cell_type": "code",
   "execution_count": 6,
   "outputs": [
    {
     "data": {
      "text/plain": "     0         1         2\n0    1  0.143451  0.470262\n1    4  0.059353  0.379019\n2    7  0.042225  0.365441\n3   10  0.035687  0.346973\n4   13  0.032818  0.333036\n5   16  0.031023  0.322275\n6   19  0.029124  0.313402\n7   22  0.027177  0.307526\n8   25  0.025694  0.303506\n9   28  0.024637  0.300743\n10  31  0.023867  0.298787\n11  34  0.023295  0.297327\n12  37  0.022863  0.296113\n13  40  0.022528  0.294985\n14  43  0.022269  0.293884\n15  46  0.022077  0.292811\n16  49  0.021942  0.291775",
      "text/html": "<div>\n<style>\n    .dataframe thead tr:only-child th {\n        text-align: right;\n    }\n\n    .dataframe thead th {\n        text-align: left;\n    }\n\n    .dataframe tbody tr th {\n        vertical-align: top;\n    }\n</style>\n<table border=\"1\" class=\"dataframe\">\n  <thead>\n    <tr style=\"text-align: right;\">\n      <th></th>\n      <th>0</th>\n      <th>1</th>\n      <th>2</th>\n    </tr>\n  </thead>\n  <tbody>\n    <tr>\n      <th>0</th>\n      <td>1</td>\n      <td>0.143451</td>\n      <td>0.470262</td>\n    </tr>\n    <tr>\n      <th>1</th>\n      <td>4</td>\n      <td>0.059353</td>\n      <td>0.379019</td>\n    </tr>\n    <tr>\n      <th>2</th>\n      <td>7</td>\n      <td>0.042225</td>\n      <td>0.365441</td>\n    </tr>\n    <tr>\n      <th>3</th>\n      <td>10</td>\n      <td>0.035687</td>\n      <td>0.346973</td>\n    </tr>\n    <tr>\n      <th>4</th>\n      <td>13</td>\n      <td>0.032818</td>\n      <td>0.333036</td>\n    </tr>\n    <tr>\n      <th>5</th>\n      <td>16</td>\n      <td>0.031023</td>\n      <td>0.322275</td>\n    </tr>\n    <tr>\n      <th>6</th>\n      <td>19</td>\n      <td>0.029124</td>\n      <td>0.313402</td>\n    </tr>\n    <tr>\n      <th>7</th>\n      <td>22</td>\n      <td>0.027177</td>\n      <td>0.307526</td>\n    </tr>\n    <tr>\n      <th>8</th>\n      <td>25</td>\n      <td>0.025694</td>\n      <td>0.303506</td>\n    </tr>\n    <tr>\n      <th>9</th>\n      <td>28</td>\n      <td>0.024637</td>\n      <td>0.300743</td>\n    </tr>\n    <tr>\n      <th>10</th>\n      <td>31</td>\n      <td>0.023867</td>\n      <td>0.298787</td>\n    </tr>\n    <tr>\n      <th>11</th>\n      <td>34</td>\n      <td>0.023295</td>\n      <td>0.297327</td>\n    </tr>\n    <tr>\n      <th>12</th>\n      <td>37</td>\n      <td>0.022863</td>\n      <td>0.296113</td>\n    </tr>\n    <tr>\n      <th>13</th>\n      <td>40</td>\n      <td>0.022528</td>\n      <td>0.294985</td>\n    </tr>\n    <tr>\n      <th>14</th>\n      <td>43</td>\n      <td>0.022269</td>\n      <td>0.293884</td>\n    </tr>\n    <tr>\n      <th>15</th>\n      <td>46</td>\n      <td>0.022077</td>\n      <td>0.292811</td>\n    </tr>\n    <tr>\n      <th>16</th>\n      <td>49</td>\n      <td>0.021942</td>\n      <td>0.291775</td>\n    </tr>\n  </tbody>\n</table>\n</div>"
     },
     "execution_count": 6,
     "metadata": {},
     "output_type": "execute_result"
    }
   ],
   "source": [
    "import pandas as pd\n",
    "draw_data = pd.DataFrame(eva_values)\n",
    "draw_data"
   ],
   "metadata": {
    "collapsed": false,
    "pycharm": {
     "name": "#%%\n"
    }
   }
  },
  {
   "cell_type": "code",
   "execution_count": 7,
   "outputs": [
    {
     "data": {
      "text/plain": "<Figure size 1200x800 with 1 Axes>",
      "image/png": "[encoded data removed]"
     },
     "metadata": {},
     "output_type": "display_data"
    }
   ],
   "source": [
    "# 画出来\n",
    "import matplotlib\n",
    "import matplotlib.pyplot as plt\n",
    "%matplotlib inline\n",
    "matplotlib.rcParams['figure.dpi'] = 200\n",
    "matplotlib.rcParams['font.sans-serif'] = ['simhei']\n",
    "matplotlib.rcParams['axes.unicode_minus'] = False\n",
    "plt.plot(draw_data[0],draw_data[1], c='green')\n",
    "plt.plot(draw_data[0],draw_data[2], c='red')\n",
    "plt.xlabel(\"RMSE\")\n",
    "plt.ylabel(\"iter\")\n",
    "plt.legend((\"训练误差\",\"测试误差\"),loc='lower right')\n",
    "plt.show()"
   ],
   "metadata": {
    "collapsed": false,
    "pycharm": {
     "name": "#%%\n"
    }
   }
  },
  {
   "cell_type": "markdown",
   "source": [
    "看这个情况，50次的iter还不够，效果只能是一般，如果是200次呢？"
   ],
   "metadata": {
    "collapsed": false,
    "pycharm": {
     "name": "#%% md\n"
    }
   }
  },
  {
   "cell_type": "code",
   "execution_count": 8,
   "outputs": [
    {
     "data": {
      "text/plain": "(0.02017882498205578, 0.294127937392933)"
     },
     "execution_count": 8,
     "metadata": {},
     "output_type": "execute_result"
    }
   ],
   "source": [
    "als_eva(200)"
   ],
   "metadata": {
    "collapsed": false,
    "pycharm": {
     "name": "#%%\n"
    }
   }
  },
  {
   "cell_type": "code",
   "execution_count": null,
   "outputs": [],
   "source": [
    "ss.stop()"
   ],
   "metadata": {
    "collapsed": false,
    "pycharm": {
     "name": "#%%\n",
     "is_executing": true
    }
   }
  }
 ],
 "metadata": {
  "kernelspec": {
   "display_name": "Python 3",
   "language": "python",
   "name": "python3"
  },
  "language_info": {
   "codemirror_mode": {
    "name": "ipython",
    "version": 2
   },
   "file_extension": ".py",
   "mimetype": "text/x-python",
   "name": "python",
   "nbconvert_exporter": "python",
   "pygments_lexer": "ipython2",
   "version": "2.7.6"
  }
 },
 "nbformat": 4,
 "nbformat_minor": 0
}