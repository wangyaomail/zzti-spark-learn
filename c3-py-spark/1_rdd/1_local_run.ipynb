{
 "cells": [
  {
   "cell_type": "code",
   "execution_count": 1,
   "outputs": [
    {
     "data": {
      "text/plain": "('3.6.2 |Continuum Analytics, Inc.| (default, Jul 20 2017, 12:30:02) [MSC v.1900 64 bit (AMD64)]',\n 'Thu Dec  9 17:31:57 2021')"
     },
     "execution_count": 1,
     "metadata": {},
     "output_type": "execute_result"
    }
   ],
   "source": [
    "import sys\n",
    "import time\n",
    "sys.version,time.asctime()"
   ],
   "metadata": {
    "collapsed": false,
    "pycharm": {
     "name": "#%%\n"
    }
   }
  },
  {
   "cell_type": "markdown",
   "source": [
    "如果本机有多个java版本或scala版本，需要在执行前设定好pyspark所用的jdk版本，按照下面这个方式设定即可"
   ],
   "metadata": {
    "collapsed": false,
    "pycharm": {
     "name": "#%% md\n"
    }
   }
  },
  {
   "cell_type": "code",
   "execution_count": 3,
   "outputs": [
    {
     "data": {
      "text/plain": "environ({'ALLUSERSPROFILE': 'C:\\\\ProgramData', 'APPDATA': 'C:\\\\Users\\\\d\\\\AppData\\\\Roaming', 'AV_APPDATA': 'C:\\\\Users\\\\d\\\\AppData\\\\Roaming', 'COMMONPROGRAMFILES': 'C:\\\\Program Files\\\\Common Files', 'COMMONPROGRAMFILES(X86)': 'C:\\\\Program Files (x86)\\\\Common Files', 'COMMONPROGRAMW6432': 'C:\\\\Program Files\\\\Common Files', 'COMPUTERNAME': 'X99', 'COMSPEC': 'C:\\\\WINDOWS\\\\system32\\\\cmd.exe', 'CONDA_DEFAULT_ENV': 'pyspark', 'CONDA_PREFIX': 'C:\\\\conda\\\\conda3\\\\envs\\\\pyspark', 'CONDA_PROMPT_MODIFIER': '(pyspark) ', 'CONDA_SHLVL': '1', 'CUDA_PATH': 'C:\\\\Program Files\\\\NVIDIA GPU Computing Toolkit\\\\CUDA\\\\v11.4', 'CUDA_PATH_V11_4': 'C:\\\\Program Files\\\\NVIDIA GPU Computing Toolkit\\\\CUDA\\\\v11.4', 'DOKANLIBRARY1': 'C:\\\\Program Files\\\\Dokan\\\\DokanLibrary-1.0.3\\\\', 'DRIVERDATA': 'C:\\\\Windows\\\\System32\\\\Drivers\\\\DriverData', 'FPS_BROWSER_APP_PROFILE_STRING': 'Internet Explorer', 'FPS_BROWSER_USER_PROFILE_STRING': 'Default', 'GROOVY_HOME': 'C:\\\\Program Files (x86)\\\\Groovy\\\\', 'HADOOP_HOME': 'C:\\\\hadoop\\\\hadoop-2.6.5', 'HADOOP_USER_NAME': 'zzti', 'HOMEDRIVE': 'C:', 'HOMEPATH': '\\\\Users\\\\d', 'IDEA_INITIAL_DIRECTORY': 'C:\\\\Program Files\\\\JetBrains\\\\IntelliJ IDEA 2021.2.2\\\\bin', 'LANG': 'en_US.UTF-8', 'LANGUAGE': '', 'LC_ALL': 'en_US.UTF-8', 'LOCALAPPDATA': 'C:\\\\Users\\\\d\\\\AppData\\\\Local', 'LOGONSERVER': '\\\\\\\\X99', 'NUMBER_OF_PROCESSORS': '48', 'NVCUDASAMPLES11_4_ROOT': 'C:\\\\ProgramData\\\\NVIDIA Corporation\\\\CUDA Samples\\\\v11.4', 'NVCUDASAMPLES_ROOT': 'C:\\\\ProgramData\\\\NVIDIA Corporation\\\\CUDA Samples\\\\v11.4', 'NVTOOLSEXT_PATH': 'C:\\\\Program Files\\\\NVIDIA Corporation\\\\NvToolsExt\\\\', 'ONEDRIVE': 'C:\\\\Users\\\\d\\\\OneDrive', 'OS': 'Windows_NT', 'PATH': 'C:\\\\conda\\\\conda3\\\\envs\\\\pyspark\\\\Library\\\\bin;C:\\\\conda\\\\conda3\\\\envs\\\\pyspark\\\\Library\\\\bin;C:\\\\conda\\\\conda3\\\\envs\\\\pyspark\\\\lib\\\\site-packages;C:\\\\conda\\\\conda3\\\\envs\\\\pyspark\\\\Library\\\\bin;C:\\\\conda\\\\conda3\\\\envs\\\\pyspark;C:\\\\conda\\\\conda3\\\\envs\\\\pyspark\\\\Library\\\\mingw-w64\\\\bin;C:\\\\conda\\\\conda3\\\\envs\\\\pyspark\\\\Library\\\\usr\\\\bin;C:\\\\conda\\\\conda3\\\\envs\\\\pyspark\\\\Library\\\\bin;C:\\\\conda\\\\conda3\\\\envs\\\\pyspark\\\\Scripts;C:\\\\conda\\\\conda3\\\\envs\\\\pyspark\\\\bin;C:\\\\conda\\\\conda3\\\\condabin;C:\\\\Program Files (x86)\\\\VMware\\\\VMware Workstation\\\\bin;C:\\\\Program Files\\\\NVIDIA GPU Computing Toolkit\\\\CUDA\\\\v11.4\\\\bin;C:\\\\Program Files\\\\NVIDIA GPU Computing Toolkit\\\\CUDA\\\\v11.4\\\\libnvvp;C:\\\\Program Files\\\\Common Files\\\\Oracle\\\\Java\\\\javapath;C:\\\\Program Files (x86)\\\\Common Files\\\\Oracle\\\\Java\\\\javapath;C:\\\\conda\\\\conda3;C:\\\\conda\\\\conda3\\\\Library\\\\mingw-w64\\\\bin;C:\\\\conda\\\\conda3\\\\Library\\\\usr\\\\bin;C:\\\\conda\\\\conda3\\\\Library\\\\bin;C:\\\\conda\\\\conda3\\\\Scripts;C:\\\\WINDOWS\\\\system32;C:\\\\WINDOWS;C:\\\\WINDOWS\\\\System32\\\\Wbem;C:\\\\WINDOWS\\\\System32\\\\WindowsPowerShell\\\\v1.0;C:\\\\WINDOWS\\\\System32\\\\OpenSSH;C:\\\\Program Files\\\\Git\\\\cmd;C:\\\\cygwin64\\\\bin;C:\\\\Program Files (x86)\\\\ZeroTier\\\\One;C:\\\\Program Files\\\\nodejs;C:\\\\Program Files (x86)\\\\scala\\\\bin;C:\\\\Program Files (x86)\\\\NetSarang\\\\Xshell 7;C:\\\\Program Files (x86)\\\\NetSarang\\\\Xftp 7;C:\\\\Program Files\\\\NVIDIA Corporation\\\\Nsight Compute 2021.2.2;C:\\\\Program Files (x86)\\\\NVIDIA Corporation\\\\PhysX\\\\Common;C:\\\\Program Files\\\\NVIDIA Corporation\\\\NVIDIA NvDLISR;C:\\\\Program Files\\\\Microsoft VS Code\\\\bin;C:\\\\WINDOWS\\\\system32;C:\\\\WINDOWS;C:\\\\WINDOWS\\\\System32\\\\Wbem;C:\\\\WINDOWS\\\\System32\\\\WindowsPowerShell\\\\v1.0;C:\\\\WINDOWS\\\\System32\\\\OpenSSH;C:\\\\Users\\\\d\\\\AppData\\\\Local\\\\Microsoft\\\\WindowsApps;C:\\\\Users\\\\d\\\\AppData\\\\Roaming\\\\npm;C:\\\\assistlibs\\\\java\\\\gradle-6.7\\\\bin;C:\\\\assistlibs\\\\java\\\\groovy-3.0.6\\\\bin;C:\\\\Program Files (x86)\\\\Nmap;.', 'PATHEXT': '.COM;.EXE;.BAT;.CMD;.VBS;.VBE;.JS;.JSE;.WSF;.WSH;.MSC', 'PROCESSOR_ARCHITECTURE': 'AMD64', 'PROCESSOR_IDENTIFIER': 'Intel64 Family 6 Model 63 Stepping 2, GenuineIntel', 'PROCESSOR_LEVEL': '6', 'PROCESSOR_REVISION': '3f02', 'PROGRAMDATA': 'C:\\\\ProgramData', 'PROGRAMFILES': 'C:\\\\Program Files', 'PROGRAMFILES(X86)': 'C:\\\\Program Files (x86)', 'PROGRAMW6432': 'C:\\\\Program Files', 'PROMPT': '(pyspark) $P$G', 'PSMODULEPATH': 'C:\\\\Program Files\\\\WindowsPowerShell\\\\Modules;C:\\\\WINDOWS\\\\system32\\\\WindowsPowerShell\\\\v1.0\\\\Modules', 'PUBLIC': 'C:\\\\Users\\\\Public', 'PYTHONPATH': 'L:\\\\zzti\\\\zzti-spark-2021\\\\zzti-spark-learn\\\\c3-py-spark', 'SESSIONNAME': 'Console', 'SYSTEMDRIVE': 'C:', 'SYSTEMROOT': 'C:\\\\WINDOWS', 'TEMP': 'C:\\\\Users\\\\d\\\\AppData\\\\Local\\\\Temp', 'TMP': 'C:\\\\Users\\\\d\\\\AppData\\\\Local\\\\Temp', 'USERDOMAIN': 'X99', 'USERDOMAIN_ROAMINGPROFILE': 'X99', 'USERNAME': 'd', 'USERPROFILE': 'C:\\\\Users\\\\d', 'VBOX_MSI_INSTALL_PATH': 'C:\\\\Program Files\\\\Oracle\\\\VirtualBox\\\\', 'WINDIR': 'C:\\\\WINDOWS', 'WXDRIVE_START_ARGS': '--wxdrive-setting=0 --disable-gpu --disable-software-rasterizer --enable-features=NetworkServiceInProcess', 'JPY_INTERRUPT_EVENT': '348', 'IPY_INTERRUPT_EVENT': '348', 'JPY_PARENT_PID': '892', 'TERM': 'xterm-color', 'CLICOLOR': '1', 'PAGER': 'cat', 'GIT_PAGER': 'cat', 'MPLBACKEND': 'module://ipykernel.pylab.backend_inline', 'SPARK_HOME': 'C:\\\\hadoop\\\\spark-2.4.5-bin-hadoop2.6', 'JAVA_HOME': 'C:\\\\Program Files\\\\Java\\\\jdk1.8.0_191', 'SCALA_HOME': 'C:\\\\Program Files (x86)\\\\scala'})"
     },
     "execution_count": 3,
     "metadata": {},
     "output_type": "execute_result"
    }
   ],
   "source": [
    "import os\n",
    "from os.path import *\n",
    "file_dir = os.path.abspath(\".\")\n",
    "proj_dir = dirname(dirname(file_dir))\n",
    "os.environ['HADOOP_HOME'] = r\"C:\\hadoop\\hadoop-2.6.5\"\n",
    "os.environ['SPARK_HOME'] = r\"C:\\hadoop\\spark-2.4.5-bin-hadoop2.6\"\n",
    "os.environ['JAVA_HOME'] = r\"C:\\Program Files\\Java\\jdk1.8.0_191\"\n",
    "os.environ[\"SCALA_HOME\"]=r\"C:\\Program Files (x86)\\scala\"\n",
    "os.environ"
   ],
   "metadata": {
    "collapsed": false,
    "pycharm": {
     "name": "#%%\n"
    }
   }
  },
  {
   "cell_type": "code",
   "execution_count": 12,
   "outputs": [
    {
     "ename": "ValueError",
     "evalue": "Cannot run multiple SparkContexts at once; existing SparkContext(app=test, master=local[4]) created by __init__ at <ipython-input-11-c999e9f3dcf0>:5 ",
     "output_type": "error",
     "traceback": [
      "\u001B[1;31m---------------------------------------------------------------------------\u001B[0m",
      "\u001B[1;31mValueError\u001B[0m                                Traceback (most recent call last)",
      "\u001B[1;32m<ipython-input-12-81e3eeaafd44>\u001B[0m in \u001B[0;36m<module>\u001B[1;34m()\u001B[0m\n\u001B[0;32m      3\u001B[0m \u001B[1;32mfrom\u001B[0m \u001B[0mpyspark\u001B[0m\u001B[1;33m.\u001B[0m\u001B[0msql\u001B[0m \u001B[1;32mimport\u001B[0m \u001B[0mSparkSession\u001B[0m\u001B[1;33m\u001B[0m\u001B[0m\n\u001B[0;32m      4\u001B[0m \u001B[0msconf\u001B[0m \u001B[1;33m=\u001B[0m \u001B[0mSparkConf\u001B[0m\u001B[1;33m(\u001B[0m\u001B[1;33m)\u001B[0m\u001B[1;33m.\u001B[0m\u001B[0msetMaster\u001B[0m\u001B[1;33m(\u001B[0m\u001B[1;34m\"local[4]\"\u001B[0m\u001B[1;33m)\u001B[0m\u001B[1;33m.\u001B[0m\u001B[0msetAppName\u001B[0m\u001B[1;33m(\u001B[0m\u001B[1;34m\"test\"\u001B[0m\u001B[1;33m)\u001B[0m\u001B[1;33m\u001B[0m\u001B[0m\n\u001B[1;32m----> 5\u001B[1;33m \u001B[0msc\u001B[0m \u001B[1;33m=\u001B[0m \u001B[0mSparkContext\u001B[0m\u001B[1;33m(\u001B[0m\u001B[0mconf\u001B[0m\u001B[1;33m=\u001B[0m\u001B[0msconf\u001B[0m\u001B[1;33m)\u001B[0m\u001B[1;33m\u001B[0m\u001B[0m\n\u001B[0m\u001B[0;32m      6\u001B[0m \u001B[0mss\u001B[0m \u001B[1;33m=\u001B[0m \u001B[0mSparkSession\u001B[0m\u001B[1;33m(\u001B[0m\u001B[0msparkContext\u001B[0m\u001B[1;33m=\u001B[0m\u001B[0msc\u001B[0m\u001B[1;33m)\u001B[0m\u001B[1;33m\u001B[0m\u001B[0m\n\u001B[0;32m      7\u001B[0m \u001B[0mss\u001B[0m\u001B[1;33m\u001B[0m\u001B[0m\n",
      "\u001B[1;32mC:\\conda\\conda3\\envs\\pyspark\\lib\\site-packages\\pyspark\\context.py\u001B[0m in \u001B[0;36m__init__\u001B[1;34m(self, master, appName, sparkHome, pyFiles, environment, batchSize, serializer, conf, gateway, jsc, profiler_cls)\u001B[0m\n\u001B[0;32m    131\u001B[0m                     \" note this option will be removed in Spark 3.0\")\n\u001B[0;32m    132\u001B[0m \u001B[1;33m\u001B[0m\u001B[0m\n\u001B[1;32m--> 133\u001B[1;33m         \u001B[0mSparkContext\u001B[0m\u001B[1;33m.\u001B[0m\u001B[0m_ensure_initialized\u001B[0m\u001B[1;33m(\u001B[0m\u001B[0mself\u001B[0m\u001B[1;33m,\u001B[0m \u001B[0mgateway\u001B[0m\u001B[1;33m=\u001B[0m\u001B[0mgateway\u001B[0m\u001B[1;33m,\u001B[0m \u001B[0mconf\u001B[0m\u001B[1;33m=\u001B[0m\u001B[0mconf\u001B[0m\u001B[1;33m)\u001B[0m\u001B[1;33m\u001B[0m\u001B[0m\n\u001B[0m\u001B[0;32m    134\u001B[0m         \u001B[1;32mtry\u001B[0m\u001B[1;33m:\u001B[0m\u001B[1;33m\u001B[0m\u001B[0m\n\u001B[0;32m    135\u001B[0m             self._do_init(master, appName, sparkHome, pyFiles, environment, batchSize, serializer,\n",
      "\u001B[1;32mC:\\conda\\conda3\\envs\\pyspark\\lib\\site-packages\\pyspark\\context.py\u001B[0m in \u001B[0;36m_ensure_initialized\u001B[1;34m(cls, instance, gateway, conf)\u001B[0m\n\u001B[0;32m    330\u001B[0m                         \u001B[1;34m\" created by %s at %s:%s \"\u001B[0m\u001B[1;33m\u001B[0m\u001B[0m\n\u001B[0;32m    331\u001B[0m                         % (currentAppName, currentMaster,\n\u001B[1;32m--> 332\u001B[1;33m                             callsite.function, callsite.file, callsite.linenum))\n\u001B[0m\u001B[0;32m    333\u001B[0m                 \u001B[1;32melse\u001B[0m\u001B[1;33m:\u001B[0m\u001B[1;33m\u001B[0m\u001B[0m\n\u001B[0;32m    334\u001B[0m                     \u001B[0mSparkContext\u001B[0m\u001B[1;33m.\u001B[0m\u001B[0m_active_spark_context\u001B[0m \u001B[1;33m=\u001B[0m \u001B[0minstance\u001B[0m\u001B[1;33m\u001B[0m\u001B[0m\n",
      "\u001B[1;31mValueError\u001B[0m: Cannot run multiple SparkContexts at once; existing SparkContext(app=test, master=local[4]) created by __init__ at <ipython-input-11-c999e9f3dcf0>:5 "
     ]
    }
   ],
   "source": [
    "import pyspark\n",
    "from pyspark import SparkContext, SparkConf\n",
    "from pyspark.sql import SparkSession\n",
    "sconf = SparkConf().setMaster(\"local[4]\").setAppName(\"test\")\n",
    "sc = SparkContext(conf=sconf)\n",
    "ss = SparkSession(sparkContext=sc)\n",
    "ss"
   ],
   "metadata": {
    "collapsed": false,
    "pycharm": {
     "name": "#%%\n"
    }
   }
  },
  {
   "cell_type": "code",
   "execution_count": 13,
   "outputs": [
    {
     "data": {
      "text/plain": "[0,\n 1,\n 2,\n 3,\n 4,\n 5,\n 6,\n 7,\n 8,\n 9,\n 10,\n 11,\n 12,\n 13,\n 14,\n 15,\n 16,\n 17,\n 18,\n 19,\n 20,\n 21,\n 22,\n 23,\n 24,\n 25,\n 26,\n 27,\n 28,\n 29,\n 30,\n 31,\n 32,\n 33,\n 34,\n 35,\n 36,\n 37,\n 38,\n 39,\n 40,\n 41,\n 42,\n 43,\n 44,\n 45,\n 46,\n 47,\n 48,\n 49,\n 50,\n 51,\n 52,\n 53,\n 54,\n 55,\n 56,\n 57,\n 58,\n 59,\n 60,\n 61,\n 62,\n 63,\n 64,\n 65,\n 66,\n 67,\n 68,\n 69,\n 70,\n 71,\n 72,\n 73,\n 74,\n 75,\n 76,\n 77,\n 78,\n 79,\n 80,\n 81,\n 82,\n 83,\n 84,\n 85,\n 86,\n 87,\n 88,\n 89,\n 90,\n 91,\n 92,\n 93,\n 94,\n 95,\n 96,\n 97,\n 98,\n 99]"
     },
     "execution_count": 13,
     "metadata": {},
     "output_type": "execute_result"
    }
   ],
   "source": [
    "sc.parallelize(range(100)).collect()"
   ],
   "metadata": {
    "collapsed": false,
    "pycharm": {
     "name": "#%%\n"
    }
   }
  },
  {
   "cell_type": "code",
   "execution_count": 14,
   "outputs": [
    {
     "data": {
      "text/plain": "'L:\\\\zzti\\\\zzti-spark-2021\\\\zzti-spark-learn'"
     },
     "execution_count": 14,
     "metadata": {},
     "output_type": "execute_result"
    }
   ],
   "source": [
    "base_dir = dirname(dirname(os.path.abspath(\".\")))\n",
    "base_dir"
   ],
   "metadata": {
    "collapsed": false,
    "pycharm": {
     "name": "#%%\n"
    }
   }
  },
  {
   "cell_type": "code",
   "execution_count": 18,
   "outputs": [
    {
     "data": {
      "text/plain": "dict_items([('I', 14), ('am', 2), ('happy', 1), ('to', 57), ('join', 2), ('with', 12), ('you', 7), ('today', 4), ('in', 19), ('what', 1), ('will', 25), ('go', 8), ('down', 4), ('history', 2), ('as', 20), ('the', 99), ('greatest', 1), ('demonstration', 1), ('for', 8), ('freedom', 18), ('of', 97), ('our', 17), ('nation.', 2), ('Five', 1), ('score', 1), ('years', 5), ('ago,', 1), ('a', 37), ('great', 5), ('American,', 1), ('whose', 1), ('symbolic', 1), ('shadow', 1), ('we', 14), ('stand', 3), ('today,', 3), ('signed', 1), ('Emancipation', 1), ('Proclamation.', 1), ('This', 5), ('momentous', 1), ('decree', 1), ('came', 2), ('beacon', 1), ('light', 1), ('hope', 2), ('millions', 1), ('Negro', 12), ('slaves', 2), ('who', 4), ('had', 1), ('been', 2), ('seared', 1), ('flames', 1), ('withering', 1), ('injustice.', 1), ('It', 4), ('joyous', 1), ('daybreak', 1), ('end', 1), ('long', 6), ('night', 1), ('their', 8), ('captivity.', 1), ('But', 4), ('one', 9), ('hundred', 4), ('later,', 4), ('still', 4), ('is', 23), ('not', 13), ('free.', 1), ('One', 3), ('life', 1), ('sadly', 1), ('crippled', 1), ('by', 8), ('manacles', 1), ('segregation', 2), ('and', 34), ('chains', 1), ('discrimination.', 1), ('lives', 1), ('on', 5), ('lonely', 1), ('island', 1), ('poverty', 1), ('midst', 1), ('vast', 1), ('ocean', 1), ('material', 1), ('prosperity.', 1), ('languished', 1), ('corners', 1), ('American', 3), ('society', 1), ('finds', 1), ('himself', 1), ('an', 4), ('exile', 1), ('his', 3), ('own', 1), ('land.', 1), ('And', 11), ('so', 3), (\"we've\", 3), ('come', 10), ('here', 3), ('dramatize', 1), ('shameful', 1), ('condition.', 1), ('In', 2), ('sense', 1), (\"nation's\", 1), ('capital', 1), ('cash', 2), ('check.', 1), ('When', 1), ('architects', 1), ('republic', 1), ('wrote', 1), ('magnificent', 1), ('words', 2), ('Constitution', 1), ('Declaration', 1), ('Independence,', 1), ('they', 3), ('were', 1), ('signing', 1), ('promissory', 2), ('note', 2), ('which', 5), ('every', 6), ('was', 2), ('fall', 1), ('heir.', 1), ('promise', 1), ('that', 22), ('all', 6), ('men,', 2), ('yes,', 1), ('black', 3), ('men', 2), ('well', 1), ('white', 5), ('would', 2), ('be', 31), ('guaranteed', 1), ('\"unalienable', 1), ('Rights\"', 1), ('\"Life,', 1), ('Liberty', 1), ('pursuit', 1), ('Happiness.\"', 1), ('obvious', 1), ('America', 5), ('has', 5), ('defaulted', 1), ('this', 14), ('note,', 1), ('insofar', 1), ('her', 1), ('citizens', 1), ('color', 2), ('are', 7), ('concerned.', 1), ('Instead', 1), ('honoring', 1), ('sacred', 1), ('obligation,', 1), ('given', 1), ('people', 1), ('bad', 1), ('check,', 2), ('check', 2), ('back', 8), ('marked', 1), ('\"insufficient', 1), ('funds.\"', 1), ('refuse', 2), ('believe', 2), ('bank', 1), ('justice', 3), ('bankrupt.', 1), ('We', 10), ('there', 5), ('insufficient', 1), ('funds', 1), ('vaults', 1), ('opportunity', 1), ('so,', 1), ('give', 1), ('us', 4), ('upon', 1), ('demand', 1), ('riches', 1), ('security', 1), ('justice.', 3), ('have', 17), ('also', 1), ('hallowed', 1), ('spot', 1), ('remind', 1), ('fierce', 1), ('urgency', 2), ('Now.', 1), ('no', 1), ('time', 5), ('engage', 1), ('luxury', 1), ('cooling', 1), ('off', 2), ('or', 1), ('take', 1), ('tranquilizing', 1), ('drug', 1), ('gradualism.', 1), ('Now', 4), ('make', 3), ('real', 1), ('promises', 1), ('democracy.', 1), ('rise', 3), ('from', 14), ('dark', 1), ('desolate', 1), ('valley', 3), ('sunlit', 1), ('path', 1), ('racial', 2), ('lift', 1), ('nation', 7), ('quicksands', 1), ('injustice', 1), ('solid', 1), ('rock', 1), ('brotherhood.', 3), ('reality', 1), (\"God's\", 2), ('children.', 1), ('fatal', 1), ('overlook', 1), ('moment.', 1), ('sweltering', 3), ('summer', 1), (\"Negro's\", 1), ('legitimate', 1), ('discontent', 1), ('pass', 1), ('until', 4), ('invigorating', 1), ('autumn', 1), ('equality.', 1), ('Nineteen', 1), ('sixty-three', 1), ('end,', 1), ('but', 2), ('beginning.', 1), ('those', 2), ('needed', 1), ('blow', 1), ('steam', 1), ('now', 1), ('content', 2), ('rude', 1), ('awakening', 1), ('if', 2), ('returns', 1), ('business', 1), ('usual.', 1), ('neither', 1), ('rest', 1), ('nor', 1), ('tranquility', 1), ('granted', 1), ('citizenship', 1), ('rights.', 1), ('The', 2), ('whirlwinds', 1), ('revolt', 1), ('continue', 1), ('shake', 1), ('foundations', 1), ('bright', 1), ('day', 9), ('emerges.', 1), ('something', 1), ('must', 8), ('say', 2), ('my', 4), ('people,', 2), ('warm', 1), ('threshold', 1), ('leads', 1), ('into', 4), ('palace', 1), ('justice:', 1), ('process', 1), ('gaining', 1), ('rightful', 1), ('place,', 1), ('guilty', 1), ('wrongful', 1), ('deeds.', 1), ('Let', 9), ('seek', 1), ('satisfy', 1), ('thirst', 1), ('drinking', 1), ('cup', 1), ('bitterness', 1), ('hatred.', 1), ('forever', 1), ('conduct', 1), ('struggle', 2), ('high', 1), ('plane', 1), ('dignity', 2), ('discipline.', 1), ('allow', 1), ('creative', 2), ('protest', 1), ('degenerate', 1), ('physical', 2), ('violence.', 1), ('Again', 1), ('again,', 1), ('majestic', 1), ('heights', 1), ('meeting', 1), ('force', 1), ('soul', 1), ('force.', 1), ('marvelous', 1), ('new', 2), ('militancy', 1), ('engulfed', 1), ('community', 1), ('lead', 1), ('distrust', 1), ('many', 1), ('brothers,', 1), ('evidenced', 1), ('presence', 1), ('realize', 2), ('destiny', 1), ('tied', 1), ('up', 3), ('destiny.', 1), ('inextricably', 1), ('bound', 1), ('freedom.', 1), ('cannot', 6), ('walk', 1), ('alone.', 1), ('walk,', 1), ('pledge', 1), ('shall', 5), ('always', 1), ('march', 1), ('ahead.', 1), ('turn', 1), ('back.', 1), ('There', 1), ('asking', 1), ('devotees', 1), ('civil', 1), ('rights,', 1), ('\"When', 1), ('satisfied?\"', 1), ('can', 4), ('never', 3), ('satisfied', 6), ('victim', 1), ('unspeakable', 1), ('horrors', 1), ('police', 2), ('brutality.', 2), ('bodies,', 1), ('heavy', 1), ('fatigue', 1), ('travel,', 1), ('gain', 1), ('lodging', 1), ('motels', 1), ('highways', 1), ('hotels', 1), ('cities.', 1), ('**We', 1), (\"negro's\", 1), ('basic', 1), ('mobility', 1), ('smaller', 1), ('ghetto', 1), ('larger', 1), ('one.', 1), ('children', 3), ('stripped', 1), ('self-hood', 1), ('robbed', 1), ('signs', 1), ('stating:', 1), ('\"For', 1), ('Whites', 1), ('Only.\"**', 1), ('Mississippi', 1), ('vote', 1), ('New', 3), ('York', 1), ('believes', 1), ('he', 1), ('nothing', 1), ('vote.', 1), ('No,', 1), ('no,', 1), ('satisfied,', 1), ('\"justice', 1), ('rolls', 1), ('like', 2), ('waters,', 1), ('righteousness', 1), ('mighty', 2), ('stream.\"1I', 1), ('unmindful', 1), ('some', 2), ('out', 3), ('trials', 1), ('tribulations.', 1), ('Some', 1), ('fresh', 1), ('narrow', 1), ('jail', 2), ('cells.', 1), ('areas', 1), ('where', 3), ('your', 1), ('quest', 2), ('--', 3), ('left', 1), ('battered', 1), ('storms', 1), ('persecution', 1), ('staggered', 1), ('winds', 1), ('You', 1), ('veterans', 1), ('suffering.', 1), ('Continue', 1), ('work', 2), ('faith', 2), ('unearned', 1), ('suffering', 1), ('redemptive.', 1), ('Go', 1), ('Mississippi,', 2), ('Alabama,', 2), ('South', 2), ('Carolina,', 1), ('Georgia,', 2), ('Louisiana,', 1), ('slums', 1), ('ghettos', 1), ('northern', 1), ('cities,', 1), ('knowing', 2), ('somehow', 1), ('situation', 1), ('changed.', 1), ('wallow', 1), ('despair,', 1), ('friends.', 1), ('even', 2), ('though', 1), ('face', 1), ('difficulties', 1), ('tomorrow,', 1), ('dream.', 2), ('dream', 9), ('deeply', 1), ('rooted', 1), ('live', 2), ('true', 1), ('meaning', 1), ('its', 3), ('creed:', 1), ('\"We', 1), ('hold', 1), ('these', 1), ('truths', 1), ('self-evident,', 1), ('created', 1), ('equal.\"', 1), ('red', 1), ('hills', 1), ('sons', 2), ('former', 2), ('slave', 1), ('owners', 1), ('able', 6), ('sit', 1), ('together', 1), ('at', 1), ('table', 1), ('state', 2), ('heat', 2), ('injustice,', 1), ('oppression,', 1), ('transformed', 1), ('oasis', 1), ('four', 1), ('little', 3), ('judged', 1), ('skin', 1), ('character.', 1), ('today!', 2), ('day,', 1), ('vicious', 1), ('racists,', 1), ('governor', 1), ('having', 1), ('lips', 1), ('dripping', 1), ('\"interposition\"', 1), ('\"nullification\"', 1), ('right', 1), ('Alabama', 1), ('boys', 2), ('girls', 2), ('hands', 1), ('sisters', 1), ('brothers.', 1), ('exalted,', 1), ('hill', 2), ('mountain', 2), ('made', 3), ('low,', 1), ('rough', 1), ('places', 2), ('plain,', 1), ('crooked', 1), ('straight;', 1), ('\"and', 1), ('glory', 1), ('Lord', 1), ('revealed', 1), ('flesh', 1), ('see', 1), ('it', 1), ('together.\"2', 1), ('hope,', 1), ('with.', 1), ('With', 3), ('faith,', 3), ('hew', 1), ('despair', 1), ('stone', 1), ('hope.', 1), ('transform', 1), ('jangling', 1), ('discords', 1), ('beautiful', 1), ('symphony', 1), ('together,', 5), ('pray', 1), ('free', 1), ('day.', 1), ('when', 1), ('sing', 1), ('meaning:', 1), ('My', 1), ('country', 1), (\"'tis\", 1), ('thee,', 1), ('sweet', 1), ('land', 2), ('liberty,', 1), ('thee', 1), ('sing.', 1), ('Land', 1), ('fathers', 1), ('died,', 1), (\"Pilgrim's\", 1), ('pride,', 1), ('', 3), ('From', 2), ('mountainside,', 2), ('let', 3), ('ring!', 1), ('nation,', 1), ('become', 1), ('true.', 1), ('ring', 8), ('prodigious', 1), ('hilltops', 1), ('Hampshire.', 1), ('mountains', 1), ('York.', 1), ('heightening', 1), ('Alleghenies', 1), ('Pennsylvania.', 1), ('snow-capped', 1), ('Rockies', 1), ('Colorado.', 1), ('curvaceous', 1), ('slopes', 1), ('California.', 1), ('only', 1), ('that:', 1), ('Stone', 1), ('Mountain', 2), ('Georgia.', 1), ('Lookout', 1), ('Tennessee.', 1), ('molehill', 1), ('Mississippi.', 1), ('ring.', 1)])"
     },
     "execution_count": 18,
     "metadata": {},
     "output_type": "execute_result"
    }
   ],
   "source": [
    "# 测试SparkContext\n",
    "rdd = sc.textFile(\"file:///\"+base_dir+\"/input/i_have_a_dream.data\")\n",
    "rdd.flatMap(lambda x: x.split(\" \")).countByValue().items()"
   ],
   "metadata": {
    "collapsed": false,
    "pycharm": {
     "name": "#%%\n"
    }
   }
  },
  {
   "cell_type": "code",
   "execution_count": 19,
   "outputs": [
    {
     "name": "stdout",
     "output_type": "stream",
     "text": [
      "+------+-------+-----+---+----------+-----------+---------------+---+\n",
      "|   _c0|    _c1|  _c2|_c3|       _c4|        _c5|            _c6|_c7|\n",
      "+------+-------+-----+---+----------+-----------+---------------+---+\n",
      "|张祥德|RB17101|RB171| 男|1997-02-10|11122223333|河南省郑州市1号| 88|\n",
      "|冯成刚|RB17102|RB171| 女|1996-10-01|18837110115|河南省洛阳市2号| 86|\n",
      "|卢伟兴|RB17103|RB171| 男|1998-08-02|19999228822|河南省开封市3号| 95|\n",
      "|杨飞龙|RB17104|RB171| 男|1996-08-09|13322554455|河南省安阳市4号| 91|\n",
      "|姜松林|RB17201|RB172| 女|1997-01-03|13688552244|河南省鹤壁市1号| 75|\n",
      "|  高飞|RB17202|RB172| 男|1996-08-27|13522114455|河南省新乡市2号| 68|\n",
      "|  何桦|RB17203|RB172| 女|1997-12-20|13566998855|河南省焦作市3号| 84|\n",
      "|高天阳|RB17204|RB172| 男|1999-11-08|13688446622|河南省濮阳市4号| 77|\n",
      "|周存富|RB17301|RB173| 男|1996-05-28|13699552658|河南省许昌市1号| 93|\n",
      "|  罗鹏|RB17302|RB173| 男|1998-03-02|13365298741|河南省漯河市2号| 85|\n",
      "|宋立昌|RB17401|RB174| 男|1995-05-28|13596325874|河南省南阳市3号| 81|\n",
      "|杨国胜|RB17402|RB174| 男|1996-03-02|13256987456|河南省信阳市4号| 91|\n",
      "|徐子文|RB17403|RB174| 男|1998-05-28|13523654789|河南省周口市5号| 85|\n",
      "|  马彦|RB17404|RB174| 女|1997-03-02|13526845962|河南省郑州市6号| 73|\n",
      "+------+-------+-----+---+----------+-----------+---------------+---+\n",
      "\n"
     ]
    }
   ],
   "source": [
    "# 测试SparkSession\n",
    "df = ss.read.csv(path=\"file:///\"+base_dir+\"/input/students.data\",sep=\"\\t\")\n",
    "df.show()"
   ],
   "metadata": {
    "collapsed": false,
    "pycharm": {
     "name": "#%%\n"
    }
   }
  },
  {
   "cell_type": "code",
   "execution_count": null,
   "outputs": [],
   "source": [
    "sc.stop()\n",
    "print(\"end\")"
   ],
   "metadata": {
    "collapsed": false,
    "pycharm": {
     "name": "#%%\n"
    }
   }
  }
 ],
 "metadata": {
  "kernelspec": {
   "display_name": "Python 3",
   "language": "python",
   "name": "python3"
  },
  "language_info": {
   "codemirror_mode": {
    "name": "ipython",
    "version": 2
   },
   "file_extension": ".py",
   "mimetype": "text/x-python",
   "name": "python",
   "nbconvert_exporter": "python",
   "pygments_lexer": "ipython2",
   "version": "2.7.6"
  }
 },
 "nbformat": 4,
 "nbformat_minor": 0
}